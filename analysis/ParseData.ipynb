{
 "cells": [
  {
   "cell_type": "code",
   "execution_count": 2,
   "metadata": {},
   "outputs": [],
   "source": [
    "from mido import MidiFile\n",
    "import numpy as np\n",
    "import os"
   ]
  },
  {
   "cell_type": "code",
   "execution_count": 36,
   "metadata": {},
   "outputs": [],
   "source": [
    "dirlist = os.listdir(\"data\")\n",
    "files = []\n",
    "for f in dirlist:\n",
    "    if f.endswith(\".mid\"):\n",
    "        files.append(f)\n",
    "    elif f != \".ipynb_checkpoints\":\n",
    "#         Then it is a subdirectory containing midi files\n",
    "        subdirlist = os.listdir(\"data/{}\".format(f))\n",
    "        for subf in subdirlist:\n",
    "            if f.endswith(\".mid\"):\n",
    "                files.append(f)"
   ]
  },
  {
   "cell_type": "code",
   "execution_count": 37,
   "metadata": {
    "scrolled": false
   },
   "outputs": [
    {
     "name": "stdout",
     "output_type": "stream",
     "text": [
      "Could not read file: data/BuxWV69.mid\n",
      "Could not read file: data/Sonataduodecima.mid\n"
     ]
    }
   ],
   "source": [
    "# possible MIDI notes are 0-127; len=128\n",
    "count = np.zeros((128, 128))\n",
    "\n",
    "for f in files:\n",
    "    fname = \"data/\" + f\n",
    "    try:\n",
    "        mid = MidiFile(fname, clip=False)\n",
    "        for track in mid.tracks:\n",
    "            msgs = [msg for msg in track if msg.type == 'note_on']\n",
    "            for i in range(len(msgs)-1):\n",
    "                note1 = msgs[i].note\n",
    "                note2 = msgs[i+1].note\n",
    "                count[note1,note2] += 1\n",
    "    except OSError:\n",
    "        print(\"Could not read file: {}\".format(fname))"
   ]
  },
  {
   "cell_type": "code",
   "execution_count": 40,
   "metadata": {},
   "outputs": [
    {
     "name": "stdout",
     "output_type": "stream",
     "text": [
      "Stored 'count' (ndarray)\n"
     ]
    }
   ],
   "source": [
    "%store count"
   ]
  },
  {
   "cell_type": "code",
   "execution_count": 41,
   "metadata": {},
   "outputs": [],
   "source": [
    "# %store -r count"
   ]
  },
  {
   "cell_type": "code",
   "execution_count": 63,
   "metadata": {
    "scrolled": false
   },
   "outputs": [],
   "source": [
    "# not checking for outside the keyboard range; expecting the high frequency bigrams to be in range\n",
    "nonzero_count = []\n",
    "for i in range(len(count)):\n",
    "    for j in range(len(count[i])):\n",
    "        if count[i,j] > 0 and i != j:\n",
    "            nonzero_count.append([count[i,j], i, j])"
   ]
  },
  {
   "cell_type": "code",
   "execution_count": 64,
   "metadata": {},
   "outputs": [
    {
     "name": "stdout",
     "output_type": "stream",
     "text": [
      "Stored 'nonzero_count' (list)\n"
     ]
    }
   ],
   "source": [
    "%store nonzero_count"
   ]
  },
  {
   "cell_type": "code",
   "execution_count": null,
   "metadata": {},
   "outputs": [],
   "source": [
    "# %store -r nonzero_count"
   ]
  },
  {
   "cell_type": "code",
   "execution_count": 65,
   "metadata": {},
   "outputs": [],
   "source": [
    "ordered = sorted(nonzero_count, key=lambda x: x[0], reverse=True)"
   ]
  },
  {
   "cell_type": "code",
   "execution_count": 67,
   "metadata": {
    "scrolled": false
   },
   "outputs": [
    {
     "name": "stdout",
     "output_type": "stream",
     "text": [
      "[[5699.0, 69, 67], [5033.0, 74, 72], [4538.0, 67, 69], [4471.0, 64, 62], [4407.0, 71, 69], [4152.0, 72, 71], [4115.0, 62, 60], [4094.0, 76, 74], [4015.0, 57, 55], [3885.0, 62, 64]]\n"
     ]
    }
   ],
   "source": [
    "print(ordered[0:10])"
   ]
  }
 ],
 "metadata": {
  "kernelspec": {
   "display_name": "Python 3",
   "language": "python",
   "name": "python3"
  },
  "language_info": {
   "codemirror_mode": {
    "name": "ipython",
    "version": 3
   },
   "file_extension": ".py",
   "mimetype": "text/x-python",
   "name": "python",
   "nbconvert_exporter": "python",
   "pygments_lexer": "ipython3",
   "version": "3.5.3"
  }
 },
 "nbformat": 4,
 "nbformat_minor": 2
}
