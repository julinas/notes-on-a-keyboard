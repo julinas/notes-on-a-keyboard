{
 "cells": [
  {
   "cell_type": "code",
   "execution_count": 68,
   "metadata": {},
   "outputs": [],
   "source": [
    "from mido import MidiFile\n",
    "import numpy as np\n",
    "import os"
   ]
  },
  {
   "cell_type": "code",
   "execution_count": 70,
   "metadata": {},
   "outputs": [],
   "source": [
    "dirlist = os.listdir(\"data\")\n",
    "files = []\n",
    "for f in dirlist:\n",
    "    if f.endswith(\".mid\"):\n",
    "        files.append(f)\n",
    "    elif f != \".ipynb_checkpoints\":\n",
    "#         Then it is a subdirectory containing midi files\n",
    "        subdirlist = os.listdir(\"data/{}\".format(f))\n",
    "        for subf in subdirlist:\n",
    "            if f.endswith(\".mid\"):\n",
    "                files.append(f)"
   ]
  },
  {
   "cell_type": "code",
   "execution_count": 71,
   "metadata": {
    "scrolled": false
   },
   "outputs": [
    {
     "name": "stdout",
     "output_type": "stream",
     "text": [
      "Could not read file: data/BuxWV69.mid\n",
      "Could not read file: data/Sonataduodecima.mid\n",
      "Could not read file: data/aurore.mid\n",
      "Could not read file: data/fleur_jetee.mid\n"
     ]
    }
   ],
   "source": [
    "# possible MIDI notes are 0-127; len=128\n",
    "count = np.zeros((128, 128))\n",
    "\n",
    "for f in files:\n",
    "    fname = \"data/\" + f\n",
    "    try:\n",
    "        mid = MidiFile(fname, clip=False)\n",
    "        for track in mid.tracks:\n",
    "            msgs = [msg for msg in track if msg.type == 'note_on']\n",
    "            for i in range(len(msgs)-1):\n",
    "                note1 = msgs[i].note\n",
    "                note2 = msgs[i+1].note\n",
    "                count[note1,note2] += 1\n",
    "    except OSError:\n",
    "        print(\"Could not read file: {}\".format(fname))"
   ]
  },
  {
   "cell_type": "code",
   "execution_count": 72,
   "metadata": {},
   "outputs": [
    {
     "name": "stdout",
     "output_type": "stream",
     "text": [
      "Stored 'count' (ndarray)\n"
     ]
    }
   ],
   "source": [
    "%store count"
   ]
  },
  {
   "cell_type": "code",
   "execution_count": 41,
   "metadata": {},
   "outputs": [],
   "source": [
    "# %store -r count"
   ]
  },
  {
   "cell_type": "code",
   "execution_count": 117,
   "metadata": {
    "scrolled": false
   },
   "outputs": [],
   "source": [
    "# not checking for outside the keyboard range; expecting the high frequency bigrams to be in range\n",
    "nonzero_count = {}\n",
    "for i in range(len(count)):\n",
    "    for j in range(len(count[i])):\n",
    "        if count[i,j] > 0: # and i != j:\n",
    "            ind1 = i\n",
    "            ind2 = j\n",
    "#             check for instances where one note is sharp of the other\n",
    "            if ind1 % 2 > 0:\n",
    "                ind1 -= 1\n",
    "            if ind2 % 2 > 0:\n",
    "                ind2 -= 1\n",
    "#             check if both notes use same key\n",
    "            if not ind1 == ind2:\n",
    "#                 consolidate pairs regardless of order\n",
    "                if ind2 < ind1:\n",
    "                    temp = ind1\n",
    "                    ind1 = ind2\n",
    "                    ind2 = temp\n",
    "#                 check if nonzero_count already contains an entry for this\n",
    "                if (ind1, ind2) in nonzero_count:\n",
    "                    nonzero_count[(ind1, ind2)] += count[i,j]\n",
    "                else:\n",
    "                    nonzero_count[(ind1, ind2)] = count[i,j]"
   ]
  },
  {
   "cell_type": "code",
   "execution_count": 118,
   "metadata": {},
   "outputs": [
    {
     "name": "stdout",
     "output_type": "stream",
     "text": [
      "Stored 'nonzero_count' (dict)\n"
     ]
    }
   ],
   "source": [
    "%store nonzero_count"
   ]
  },
  {
   "cell_type": "code",
   "execution_count": 109,
   "metadata": {},
   "outputs": [],
   "source": [
    "# %store -r nonzero_count"
   ]
  },
  {
   "cell_type": "code",
   "execution_count": 119,
   "metadata": {},
   "outputs": [],
   "source": [
    "nonzero_count = [[x, nonzero_count[x]] for x in nonzero_count]"
   ]
  },
  {
   "cell_type": "code",
   "execution_count": 121,
   "metadata": {},
   "outputs": [],
   "source": [
    "ordered = sorted(nonzero_count, key=lambda x: x[1], reverse=True)"
   ]
  },
  {
   "cell_type": "code",
   "execution_count": 123,
   "metadata": {},
   "outputs": [
    {
     "data": {
      "text/plain": [
       "729"
      ]
     },
     "execution_count": 123,
     "metadata": {},
     "output_type": "execute_result"
    }
   ],
   "source": [
    "len(ordered)"
   ]
  },
  {
   "cell_type": "code",
   "execution_count": 94,
   "metadata": {},
   "outputs": [],
   "source": [
    "def numToName(num):\n",
    "    ones = \"C C# D D# E F F# G G# A A# B\".split()\n",
    "    octave = num//12\n",
    "    letters = num%12\n",
    "    note = list(ones[letters])\n",
    "    note.insert(1, str(octave))\n",
    "    note = ''.join(note)\n",
    "    return note"
   ]
  },
  {
   "cell_type": "code",
   "execution_count": 166,
   "metadata": {},
   "outputs": [],
   "source": [
    "def nameToNum(name):\n",
    "#      C C# D D# E F F# G G# A A# B\n",
    "#      0 1  2 3  4 5 6  7 8  9 10 11\n",
    "#      Middle C is +5*12\n",
    "    num = 0\n",
    "    name = list(name)\n",
    "    if name[0] == 'C':\n",
    "        num += 0\n",
    "    elif name[0] == 'D':\n",
    "        num += 2\n",
    "    elif name[0] == 'E':\n",
    "        num += 4\n",
    "    elif name[0] == 'F':\n",
    "        num += 5\n",
    "    elif name[0] == 'G':\n",
    "        num += 7\n",
    "    elif name[0] == 'A':\n",
    "        num += 9\n",
    "    elif name[0] == 'B':\n",
    "        num += 11\n",
    "        \n",
    "    parsed = int(name[1])\n",
    "    num += parsed*12\n",
    "    \n",
    "    if len(name) > 2:\n",
    "        if name[2] is '#':\n",
    "            num += 1\n",
    "        elif name[2] is 'b':\n",
    "            num -= 1\n",
    "    \n",
    "    return num"
   ]
  },
  {
   "cell_type": "code",
   "execution_count": 171,
   "metadata": {},
   "outputs": [],
   "source": [
    "def namesToKey(nums):\n",
    "    key = \"{}{}{}{}\".format(\"`1234567890-=\", \"QWERTYUIOP[]\", \"ASDFGHJKL;'\", \"ZXCVBNM,./\")\n",
    "    notes = \"{},{},{},{}\".format(\"F8#,G8#,A8#,C9,D9,E9,F9#,G9#,A9#,G2#,A2#,C3,D3\", \"A6#,G6#,D7,C6,F7#,G7#,A7#,G5#,D5,E8,E2,F2#\", \"F4#,C5,F6#,F5#,C8,A5#,E7,D6,F3#,E5,G4#\", \"E3,E6,G3#,A3#,C4,A4#,E4,D8,C7,D4\")\n",
    "    notes = notes.replace(\",\", \" \").split()\n",
    "    symbols_lower = \",./;'[]`1234567890-=\";\n",
    "    symbols_upper = r'<>?:\"{}~!@#$%^&*()_+';\n",
    "    \n",
    "    resultNames = []\n",
    "    result = []\n",
    "    \n",
    "    for num in nums:\n",
    "        note = numToName(num)\n",
    "        resultNames.append(note)\n",
    "\n",
    "        if note in notes:\n",
    "            result.append(key[notes.index(note)].lower())\n",
    "        \n",
    "        flatnote = numToName(num-1)\n",
    "        \n",
    "        if flatnote in notes:\n",
    "            r = key[notes.index(flatnote)]\n",
    "            if r in symbols_lower:\n",
    "                r = symbols_upper[symbols_lower.index(r)]\n",
    "            result.append(r)\n",
    "    return (resultNames, result)"
   ]
  },
  {
   "cell_type": "code",
   "execution_count": 124,
   "metadata": {
    "scrolled": false
   },
   "outputs": [
    {
     "name": "stdout",
     "output_type": "stream",
     "text": [
      "D5-E5: count 40973.0\n",
      "E5-F5#: count 40167.0\n",
      "F5#-G5#: count 38314.0\n",
      "C6-D6: count 37453.0\n",
      "C5-E5: count 37442.0\n",
      "C5-D5: count 37265.0\n",
      "A5#-C6: count 36979.0\n",
      "G5#-A5#: count 36825.0\n",
      "G4#-C5: count 33931.0\n",
      "A4#-D5: count 33731.0\n",
      "D6-E6: count 33684.0\n",
      "D5-F5#: count 31336.0\n",
      "G4#-A4#: count 30765.0\n",
      "A4#-C5: count 30069.0\n",
      "F4#-A4#: count 29172.0\n",
      "F4#-G4#: count 27661.0\n",
      "E5-G5#: count 27245.0\n",
      "E4-F4#: count 26300.0\n",
      "E4-G4#: count 25350.0\n",
      "F5#-A5#: count 24951.0\n",
      "G5#-C6: count 24791.0\n",
      "E6-F6#: count 24494.0\n",
      "A5#-D6: count 22339.0\n",
      "D4-F4#: count 19839.0\n",
      "C6-E6: count 19493.0\n",
      "D4-E4: count 18768.0\n",
      "G4#-D5: count 18055.0\n",
      "F6#-G6#: count 17273.0\n",
      "F4#-C5: count 17200.0\n",
      "D6-F6#: count 16291.0\n",
      "F4#-D5: count 16238.0\n",
      "G4#-E5: count 15973.0\n",
      "A4#-E5: count 15525.0\n",
      "F5#-C6: count 14414.0\n",
      "D4-G4#: count 14407.0\n",
      "F5#-D6: count 14356.0\n",
      "C5-F5#: count 14337.0\n",
      "D5-G5#: count 14276.0\n",
      "C4-D4: count 14137.0\n",
      "E4-A4#: count 13437.0\n",
      "E5-C6: count 12966.0\n",
      "C4-E4: count 12741.0\n",
      "G5#-D6: count 12229.0\n",
      "E5-A5#: count 12202.0\n",
      "G3#-G4#: count 12021.0\n",
      "D5-A5#: count 11796.0\n",
      "G6#-A6#: count 11766.0\n",
      "E6-G6#: count 11611.0\n",
      "E4-C5: count 11553.0\n",
      "D4-D5: count 11417.0\n",
      "D3-D4: count 11283.0\n",
      "A4#-F5#: count 11244.0\n",
      "F3#-F4#: count 11236.0\n",
      "G5#-E6: count 11233.0\n",
      "E5-E6: count 10774.0\n",
      "E3-E4: count 10746.0\n",
      "C5-G5#: count 10032.0\n",
      "C4-C5: count 9972.0\n",
      "F4#-E5: count 9770.0\n",
      "D5-D6: count 9763.0\n",
      "A3#-C4: count 9513.0\n",
      "A5#-E6: count 9482.0\n",
      "F4#-F5#: count 9432.0\n",
      "D4-A4#: count 9423.0\n",
      "C4-F4#: count 9299.0\n",
      "F5#-F6#: count 9184.0\n",
      "A3#-A4#: count 9124.0\n",
      "A6#-C7: count 8660.0\n",
      "G5#-G6#: count 8188.0\n",
      "A3#-D4: count 8128.0\n",
      "E4-E5: count 8062.0\n",
      "F6#-A6#: count 7903.0\n",
      "A5#-F6#: count 7874.0\n",
      "E5-D6: count 7446.0\n",
      "G3#-A3#: count 7387.0\n",
      "F5#-E6: count 7367.0\n",
      "C6-F6#: count 7313.0\n",
      "A5#-A6#: count 7206.0\n",
      "C4-G4#: count 7167.0\n",
      "C5-C6: count 7109.0\n",
      "E4-D5: count 7090.0\n",
      "C7-D7: count 6941.0\n",
      "G4#-G5#: count 6863.0\n",
      "D5-C6: count 6857.0\n",
      "G4#-F5#: count 6832.0\n",
      "C3-C4: count 6817.0\n",
      "G3#-D4: count 6741.0\n",
      "C6-C7: count 6604.0\n",
      "G3#-E4: count 6452.0\n",
      "A2#-A3#: count 6372.0\n",
      "A3#-E4: count 6219.0\n",
      "A3#-F4#: count 6170.0\n",
      "C6-G6#: count 6061.0\n",
      "G6#-C7: count 5839.0\n",
      "D6-G6#: count 5831.0\n",
      "F3#-D4: count 5749.0\n",
      "G3#-C4: count 5495.0\n",
      "A4#-A5#: count 5463.0\n",
      "D6-D7: count 5354.0\n",
      "F3#-G3#: count 5352.0\n"
     ]
    }
   ],
   "source": [
    "for note in ordered[0:100]:\n",
    "    print(\"{}-{}: count {}\".format(numToName(note[0][0]), numToName(note[0][1]), note[1]))"
   ]
  },
  {
   "cell_type": "code",
   "execution_count": null,
   "metadata": {},
   "outputs": [],
   "source": []
  }
 ],
 "metadata": {
  "kernelspec": {
   "display_name": "Python 3",
   "language": "python",
   "name": "python3"
  },
  "language_info": {
   "codemirror_mode": {
    "name": "ipython",
    "version": 3
   },
   "file_extension": ".py",
   "mimetype": "text/x-python",
   "name": "python",
   "nbconvert_exporter": "python",
   "pygments_lexer": "ipython3",
   "version": "3.5.3"
  }
 },
 "nbformat": 4,
 "nbformat_minor": 2
}
