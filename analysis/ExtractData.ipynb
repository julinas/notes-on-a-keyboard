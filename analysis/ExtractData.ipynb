{
 "cells": [
  {
   "cell_type": "markdown",
   "metadata": {},
   "source": [
    "Some files were downloaded as zip archives in parallel with straightup midi files. This notebook extracts them."
   ]
  },
  {
   "cell_type": "code",
   "execution_count": 18,
   "metadata": {},
   "outputs": [],
   "source": [
    "import os\n",
    "from zipfile import ZipFile"
   ]
  },
  {
   "cell_type": "code",
   "execution_count": 19,
   "metadata": {},
   "outputs": [
    {
     "name": "stdout",
     "output_type": "stream",
     "text": [
      "/home/julin0030/notes-on-a-keyboard/analysis\n"
     ]
    }
   ],
   "source": [
    "print(os.getcwd())"
   ]
  },
  {
   "cell_type": "code",
   "execution_count": 24,
   "metadata": {
    "scrolled": false
   },
   "outputs": [
    {
     "name": "stdout",
     "output_type": "stream",
     "text": [
      "Error trying to extract 16-berceuse-mids.zip\n"
     ]
    }
   ],
   "source": [
    "for f in os.listdir(\"data\"):\n",
    "    if f.endswith(\".zip\"):\n",
    "        try:\n",
    "            fname = \"data/\" + f\n",
    "            dirname = \"data/\" + f[0:-4]\n",
    "            if not os.path.isdir(dirname):\n",
    "                os.mkdir(dirname)\n",
    "            with ZipFile(fname, 'r') as zipObj:\n",
    "               zipObj.extractall(dirname)\n",
    "        except:\n",
    "            print(\"Error trying to extract {}\".format(f))"
   ]
  },
  {
   "cell_type": "code",
   "execution_count": 16,
   "metadata": {},
   "outputs": [],
   "source": [
    "for f in os.listdir(\"data\"):\n",
    "    if f.endswith(\".zip\"):\n",
    "        fname = \"data/\" + f\n",
    "        os.remove(fname)"
   ]
  }
 ],
 "metadata": {
  "kernelspec": {
   "display_name": "Python 3",
   "language": "python",
   "name": "python3"
  },
  "language_info": {
   "codemirror_mode": {
    "name": "ipython",
    "version": 3
   },
   "file_extension": ".py",
   "mimetype": "text/x-python",
   "name": "python",
   "nbconvert_exporter": "python",
   "pygments_lexer": "ipython3",
   "version": "3.5.3"
  }
 },
 "nbformat": 4,
 "nbformat_minor": 2
}
